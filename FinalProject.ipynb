{
 "cells": [
  {
   "cell_type": "markdown",
   "id": "1a3aff9e",
   "metadata": {},
   "source": [
    "# Credit Default  Prediction"
   ]
  },
  {
   "cell_type": "markdown",
   "id": "42645a0b",
   "metadata": {},
   "source": [
    "## Importing Libraries"
   ]
  },
  {
   "cell_type": "code",
   "execution_count": 1,
   "id": "8e878634",
   "metadata": {},
   "outputs": [],
   "source": [
    "import numpy as np\n",
    "import pandas as pd\n",
    "import matplotlib.pyplot as plt\n",
    "import seaborn as sns\n",
    "import plotly.express as px\n",
    "from sklearn.preprocessing import LabelEncoder\n",
    "le=LabelEncoder()\n",
    "import warnings\n",
    "warnings.filterwarnings('ignore')"
   ]
  },
  {
   "cell_type": "markdown",
   "id": "2e65185e",
   "metadata": {},
   "source": [
    "### Reading CSV dataset file"
   ]
  },
  {
   "cell_type": "code",
   "execution_count": 2,
   "id": "d311044f",
   "metadata": {},
   "outputs": [
    {
     "data": {
      "text/html": [
       "<div>\n",
       "<style scoped>\n",
       "    .dataframe tbody tr th:only-of-type {\n",
       "        vertical-align: middle;\n",
       "    }\n",
       "\n",
       "    .dataframe tbody tr th {\n",
       "        vertical-align: top;\n",
       "    }\n",
       "\n",
       "    .dataframe thead th {\n",
       "        text-align: right;\n",
       "    }\n",
       "</style>\n",
       "<table border=\"1\" class=\"dataframe\">\n",
       "  <thead>\n",
       "    <tr style=\"text-align: right;\">\n",
       "      <th></th>\n",
       "      <th>Id</th>\n",
       "      <th>income</th>\n",
       "      <th>age</th>\n",
       "      <th>experience</th>\n",
       "      <th>married</th>\n",
       "      <th>house_ownership</th>\n",
       "      <th>car_ownership</th>\n",
       "      <th>profession</th>\n",
       "      <th>city</th>\n",
       "      <th>state</th>\n",
       "      <th>current_job_years</th>\n",
       "      <th>current_house_years</th>\n",
       "      <th>risk_flag</th>\n",
       "    </tr>\n",
       "  </thead>\n",
       "  <tbody>\n",
       "    <tr>\n",
       "      <th>0</th>\n",
       "      <td>1</td>\n",
       "      <td>1303835</td>\n",
       "      <td>23</td>\n",
       "      <td>3</td>\n",
       "      <td>single</td>\n",
       "      <td>rented</td>\n",
       "      <td>no</td>\n",
       "      <td>Mechanical_engineer</td>\n",
       "      <td>Rewa</td>\n",
       "      <td>Madhya_Pradesh</td>\n",
       "      <td>3</td>\n",
       "      <td>13</td>\n",
       "      <td>0</td>\n",
       "    </tr>\n",
       "    <tr>\n",
       "      <th>1</th>\n",
       "      <td>2</td>\n",
       "      <td>7574516</td>\n",
       "      <td>40</td>\n",
       "      <td>10</td>\n",
       "      <td>single</td>\n",
       "      <td>rented</td>\n",
       "      <td>no</td>\n",
       "      <td>Software_Developer</td>\n",
       "      <td>Parbhani</td>\n",
       "      <td>Maharashtra</td>\n",
       "      <td>9</td>\n",
       "      <td>13</td>\n",
       "      <td>0</td>\n",
       "    </tr>\n",
       "    <tr>\n",
       "      <th>2</th>\n",
       "      <td>3</td>\n",
       "      <td>3991815</td>\n",
       "      <td>66</td>\n",
       "      <td>4</td>\n",
       "      <td>married</td>\n",
       "      <td>rented</td>\n",
       "      <td>no</td>\n",
       "      <td>Technical_writer</td>\n",
       "      <td>Alappuzha</td>\n",
       "      <td>Kerala</td>\n",
       "      <td>4</td>\n",
       "      <td>10</td>\n",
       "      <td>0</td>\n",
       "    </tr>\n",
       "    <tr>\n",
       "      <th>3</th>\n",
       "      <td>4</td>\n",
       "      <td>6256451</td>\n",
       "      <td>41</td>\n",
       "      <td>2</td>\n",
       "      <td>single</td>\n",
       "      <td>rented</td>\n",
       "      <td>yes</td>\n",
       "      <td>Software_Developer</td>\n",
       "      <td>Bhubaneswar</td>\n",
       "      <td>Odisha</td>\n",
       "      <td>2</td>\n",
       "      <td>12</td>\n",
       "      <td>1</td>\n",
       "    </tr>\n",
       "    <tr>\n",
       "      <th>4</th>\n",
       "      <td>5</td>\n",
       "      <td>5768871</td>\n",
       "      <td>47</td>\n",
       "      <td>11</td>\n",
       "      <td>single</td>\n",
       "      <td>rented</td>\n",
       "      <td>no</td>\n",
       "      <td>Civil_servant</td>\n",
       "      <td>Tiruchirappalli[10]</td>\n",
       "      <td>Tamil_Nadu</td>\n",
       "      <td>3</td>\n",
       "      <td>14</td>\n",
       "      <td>1</td>\n",
       "    </tr>\n",
       "    <tr>\n",
       "      <th>...</th>\n",
       "      <td>...</td>\n",
       "      <td>...</td>\n",
       "      <td>...</td>\n",
       "      <td>...</td>\n",
       "      <td>...</td>\n",
       "      <td>...</td>\n",
       "      <td>...</td>\n",
       "      <td>...</td>\n",
       "      <td>...</td>\n",
       "      <td>...</td>\n",
       "      <td>...</td>\n",
       "      <td>...</td>\n",
       "      <td>...</td>\n",
       "    </tr>\n",
       "    <tr>\n",
       "      <th>251995</th>\n",
       "      <td>251996</td>\n",
       "      <td>8154883</td>\n",
       "      <td>43</td>\n",
       "      <td>13</td>\n",
       "      <td>single</td>\n",
       "      <td>rented</td>\n",
       "      <td>no</td>\n",
       "      <td>Surgeon</td>\n",
       "      <td>Kolkata</td>\n",
       "      <td>West_Bengal</td>\n",
       "      <td>6</td>\n",
       "      <td>11</td>\n",
       "      <td>0</td>\n",
       "    </tr>\n",
       "    <tr>\n",
       "      <th>251996</th>\n",
       "      <td>251997</td>\n",
       "      <td>2843572</td>\n",
       "      <td>26</td>\n",
       "      <td>10</td>\n",
       "      <td>single</td>\n",
       "      <td>rented</td>\n",
       "      <td>no</td>\n",
       "      <td>Army_officer</td>\n",
       "      <td>Rewa</td>\n",
       "      <td>Madhya_Pradesh</td>\n",
       "      <td>6</td>\n",
       "      <td>11</td>\n",
       "      <td>0</td>\n",
       "    </tr>\n",
       "    <tr>\n",
       "      <th>251997</th>\n",
       "      <td>251998</td>\n",
       "      <td>4522448</td>\n",
       "      <td>46</td>\n",
       "      <td>7</td>\n",
       "      <td>single</td>\n",
       "      <td>rented</td>\n",
       "      <td>no</td>\n",
       "      <td>Design_Engineer</td>\n",
       "      <td>Kalyan-Dombivli</td>\n",
       "      <td>Maharashtra</td>\n",
       "      <td>7</td>\n",
       "      <td>12</td>\n",
       "      <td>0</td>\n",
       "    </tr>\n",
       "    <tr>\n",
       "      <th>251998</th>\n",
       "      <td>251999</td>\n",
       "      <td>6507128</td>\n",
       "      <td>45</td>\n",
       "      <td>0</td>\n",
       "      <td>single</td>\n",
       "      <td>rented</td>\n",
       "      <td>no</td>\n",
       "      <td>Graphic_Designer</td>\n",
       "      <td>Pondicherry</td>\n",
       "      <td>Puducherry</td>\n",
       "      <td>0</td>\n",
       "      <td>10</td>\n",
       "      <td>0</td>\n",
       "    </tr>\n",
       "    <tr>\n",
       "      <th>251999</th>\n",
       "      <td>252000</td>\n",
       "      <td>9070230</td>\n",
       "      <td>70</td>\n",
       "      <td>17</td>\n",
       "      <td>single</td>\n",
       "      <td>rented</td>\n",
       "      <td>no</td>\n",
       "      <td>Statistician</td>\n",
       "      <td>Avadi</td>\n",
       "      <td>Tamil_Nadu</td>\n",
       "      <td>7</td>\n",
       "      <td>11</td>\n",
       "      <td>0</td>\n",
       "    </tr>\n",
       "  </tbody>\n",
       "</table>\n",
       "<p>252000 rows × 13 columns</p>\n",
       "</div>"
      ],
      "text/plain": [
       "            Id   income  age  experience  married house_ownership  \\\n",
       "0            1  1303835   23           3   single          rented   \n",
       "1            2  7574516   40          10   single          rented   \n",
       "2            3  3991815   66           4  married          rented   \n",
       "3            4  6256451   41           2   single          rented   \n",
       "4            5  5768871   47          11   single          rented   \n",
       "...        ...      ...  ...         ...      ...             ...   \n",
       "251995  251996  8154883   43          13   single          rented   \n",
       "251996  251997  2843572   26          10   single          rented   \n",
       "251997  251998  4522448   46           7   single          rented   \n",
       "251998  251999  6507128   45           0   single          rented   \n",
       "251999  252000  9070230   70          17   single          rented   \n",
       "\n",
       "       car_ownership           profession                 city  \\\n",
       "0                 no  Mechanical_engineer                 Rewa   \n",
       "1                 no   Software_Developer             Parbhani   \n",
       "2                 no     Technical_writer            Alappuzha   \n",
       "3                yes   Software_Developer          Bhubaneswar   \n",
       "4                 no        Civil_servant  Tiruchirappalli[10]   \n",
       "...              ...                  ...                  ...   \n",
       "251995            no              Surgeon              Kolkata   \n",
       "251996            no         Army_officer                 Rewa   \n",
       "251997            no      Design_Engineer      Kalyan-Dombivli   \n",
       "251998            no     Graphic_Designer          Pondicherry   \n",
       "251999            no         Statistician                Avadi   \n",
       "\n",
       "                 state  current_job_years  current_house_years  risk_flag  \n",
       "0       Madhya_Pradesh                  3                   13          0  \n",
       "1          Maharashtra                  9                   13          0  \n",
       "2               Kerala                  4                   10          0  \n",
       "3               Odisha                  2                   12          1  \n",
       "4           Tamil_Nadu                  3                   14          1  \n",
       "...                ...                ...                  ...        ...  \n",
       "251995     West_Bengal                  6                   11          0  \n",
       "251996  Madhya_Pradesh                  6                   11          0  \n",
       "251997     Maharashtra                  7                   12          0  \n",
       "251998      Puducherry                  0                   10          0  \n",
       "251999      Tamil_Nadu                  7                   11          0  \n",
       "\n",
       "[252000 rows x 13 columns]"
      ]
     },
     "execution_count": 2,
     "metadata": {},
     "output_type": "execute_result"
    }
   ],
   "source": [
    "data=pd.read_csv(r\"C:\\Users\\sarvesh shirsat\\Desktop\\ML project\\credit_default.csv\")\n",
    "data"
   ]
  },
  {
   "cell_type": "code",
   "execution_count": 3,
   "id": "21c4f7d1",
   "metadata": {},
   "outputs": [
    {
     "data": {
      "text/plain": [
       "(252000, 13)"
      ]
     },
     "execution_count": 3,
     "metadata": {},
     "output_type": "execute_result"
    }
   ],
   "source": [
    "data.shape"
   ]
  },
  {
   "cell_type": "code",
   "execution_count": 4,
   "id": "a005e72f",
   "metadata": {},
   "outputs": [
    {
     "name": "stdout",
     "output_type": "stream",
     "text": [
      "<class 'pandas.core.frame.DataFrame'>\n",
      "RangeIndex: 252000 entries, 0 to 251999\n",
      "Data columns (total 13 columns):\n",
      " #   Column               Non-Null Count   Dtype \n",
      "---  ------               --------------   ----- \n",
      " 0   Id                   252000 non-null  int64 \n",
      " 1   income               252000 non-null  int64 \n",
      " 2   age                  252000 non-null  int64 \n",
      " 3   experience           252000 non-null  int64 \n",
      " 4   married              252000 non-null  object\n",
      " 5   house_ownership      252000 non-null  object\n",
      " 6   car_ownership        252000 non-null  object\n",
      " 7   profession           252000 non-null  object\n",
      " 8   city                 252000 non-null  object\n",
      " 9   state                252000 non-null  object\n",
      " 10  current_job_years    252000 non-null  int64 \n",
      " 11  current_house_years  252000 non-null  int64 \n",
      " 12  risk_flag            252000 non-null  int64 \n",
      "dtypes: int64(7), object(6)\n",
      "memory usage: 25.0+ MB\n"
     ]
    }
   ],
   "source": [
    "data.info()"
   ]
  },
  {
   "cell_type": "code",
   "execution_count": 5,
   "id": "5e29cc87",
   "metadata": {},
   "outputs": [
    {
     "data": {
      "text/plain": [
       "Index(['Id', 'income', 'age', 'experience', 'married', 'house_ownership',\n",
       "       'car_ownership', 'profession', 'city', 'state', 'current_job_years',\n",
       "       'current_house_years', 'risk_flag'],\n",
       "      dtype='object')"
      ]
     },
     "execution_count": 5,
     "metadata": {},
     "output_type": "execute_result"
    }
   ],
   "source": [
    "data.columns"
   ]
  },
  {
   "cell_type": "markdown",
   "id": "cae6def5",
   "metadata": {},
   "source": [
    "## Data Cleaning"
   ]
  },
  {
   "cell_type": "code",
   "execution_count": 6,
   "id": "5aa322ab",
   "metadata": {},
   "outputs": [],
   "source": [
    "data=data.drop([\"Id\"],axis=1)\n",
    "#Id is unique value column so dropping it"
   ]
  },
  {
   "cell_type": "code",
   "execution_count": 7,
   "id": "dbfdd5df",
   "metadata": {},
   "outputs": [
    {
     "data": {
      "text/plain": [
       "income                 0\n",
       "age                    0\n",
       "experience             0\n",
       "married                0\n",
       "house_ownership        0\n",
       "car_ownership          0\n",
       "profession             0\n",
       "city                   0\n",
       "state                  0\n",
       "current_job_years      0\n",
       "current_house_years    0\n",
       "risk_flag              0\n",
       "dtype: int64"
      ]
     },
     "execution_count": 7,
     "metadata": {},
     "output_type": "execute_result"
    }
   ],
   "source": [
    "data.isnull().sum()"
   ]
  },
  {
   "cell_type": "markdown",
   "id": "71900799",
   "metadata": {},
   "source": [
    "There is no missing value "
   ]
  },
  {
   "cell_type": "markdown",
   "id": "468ebe33",
   "metadata": {},
   "source": [
    "### Dtype Conversion"
   ]
  },
  {
   "cell_type": "markdown",
   "id": "950e11b9",
   "metadata": {},
   "source": [
    "#### Categorical ro Numerical (Using LabelEncoder)"
   ]
  },
  {
   "cell_type": "code",
   "execution_count": 8,
   "id": "02cd6397",
   "metadata": {},
   "outputs": [
    {
     "data": {
      "text/plain": [
       "income                  int64\n",
       "age                     int64\n",
       "experience              int64\n",
       "married                object\n",
       "house_ownership        object\n",
       "car_ownership          object\n",
       "profession             object\n",
       "city                   object\n",
       "state                  object\n",
       "current_job_years       int64\n",
       "current_house_years     int64\n",
       "risk_flag               int64\n",
       "dtype: object"
      ]
     },
     "execution_count": 8,
     "metadata": {},
     "output_type": "execute_result"
    }
   ],
   "source": [
    "data.dtypes"
   ]
  },
  {
   "cell_type": "code",
   "execution_count": 9,
   "id": "20d8d074",
   "metadata": {},
   "outputs": [],
   "source": [
    "data.married=le.fit_transform(data.married)\n",
    "data.house_ownership=le.fit_transform(data.house_ownership)\n",
    "data.car_ownership=le.fit_transform(data.car_ownership)\n",
    "data.profession=le.fit_transform(data.profession)\n",
    "data.city=le.fit_transform(data.city)\n",
    "data.state=le.fit_transform(data.state)"
   ]
  },
  {
   "cell_type": "code",
   "execution_count": 10,
   "id": "7f9c56d7",
   "metadata": {},
   "outputs": [
    {
     "data": {
      "text/plain": [
       "income                 int64\n",
       "age                    int64\n",
       "experience             int64\n",
       "married                int32\n",
       "house_ownership        int32\n",
       "car_ownership          int32\n",
       "profession             int32\n",
       "city                   int32\n",
       "state                  int32\n",
       "current_job_years      int64\n",
       "current_house_years    int64\n",
       "risk_flag              int64\n",
       "dtype: object"
      ]
     },
     "execution_count": 10,
     "metadata": {},
     "output_type": "execute_result"
    }
   ],
   "source": [
    "data.dtypes"
   ]
  },
  {
   "cell_type": "markdown",
   "id": "cacf6330",
   "metadata": {},
   "source": [
    "### Target Column risk_flag"
   ]
  },
  {
   "cell_type": "code",
   "execution_count": 11,
   "id": "bbf701c1",
   "metadata": {},
   "outputs": [
    {
     "data": {
      "text/plain": [
       "0    221004\n",
       "1     30996\n",
       "Name: risk_flag, dtype: int64"
      ]
     },
     "execution_count": 11,
     "metadata": {},
     "output_type": "execute_result"
    }
   ],
   "source": [
    "data.risk_flag.value_counts()"
   ]
  },
  {
   "cell_type": "code",
   "execution_count": 12,
   "id": "8dd2e86f",
   "metadata": {},
   "outputs": [
    {
     "data": {
      "text/plain": [
       "0    87.7\n",
       "1    12.3\n",
       "Name: risk_flag, dtype: float64"
      ]
     },
     "execution_count": 12,
     "metadata": {},
     "output_type": "execute_result"
    }
   ],
   "source": [
    "100*data.risk_flag.value_counts()/len(data.risk_flag)"
   ]
  },
  {
   "cell_type": "code",
   "execution_count": 13,
   "id": "3e1b8f0d",
   "metadata": {},
   "outputs": [
    {
     "data": {
      "text/plain": [
       "<AxesSubplot:xlabel='risk_flag', ylabel='count'>"
      ]
     },
     "execution_count": 13,
     "metadata": {},
     "output_type": "execute_result"
    },
    {
     "data": {
      "image/png": "[encoded data removed]",
      "text/plain": [
       "<Figure size 432x288 with 1 Axes>"
      ]
     },
     "metadata": {
      "needs_background": "light"
     },
     "output_type": "display_data"
    }
   ],
   "source": [
    "sns.countplot(data['risk_flag'])"
   ]
  },
  {
   "cell_type": "markdown",
   "id": "4a05aefd",
   "metadata": {},
   "source": [
    "from above countplot target value are inbalance"
   ]
  },
  {
   "cell_type": "markdown",
   "id": "8ed18c28",
   "metadata": {},
   "source": [
    "## Data Visualisation"
   ]
  },
  {
   "cell_type": "markdown",
   "id": "8eedf42a",
   "metadata": {},
   "source": [
    "#### Correlation Plot  "
   ]
  },
  {
   "cell_type": "code",
   "execution_count": 14,
   "id": "9c4c8959",
   "metadata": {},
   "outputs": [
    {
     "data": {
      "text/html": [
       "<div>\n",
       "<style scoped>\n",
       "    .dataframe tbody tr th:only-of-type {\n",
       "        vertical-align: middle;\n",
       "    }\n",
       "\n",
       "    .dataframe tbody tr th {\n",
       "        vertical-align: top;\n",
       "    }\n",
       "\n",
       "    .dataframe thead th {\n",
       "        text-align: right;\n",
       "    }\n",
       "</style>\n",
       "<table border=\"1\" class=\"dataframe\">\n",
       "  <thead>\n",
       "    <tr style=\"text-align: right;\">\n",
       "      <th></th>\n",
       "      <th>income</th>\n",
       "      <th>age</th>\n",
       "      <th>experience</th>\n",
       "      <th>married</th>\n",
       "      <th>house_ownership</th>\n",
       "      <th>car_ownership</th>\n",
       "      <th>profession</th>\n",
       "      <th>city</th>\n",
       "      <th>state</th>\n",
       "      <th>current_job_years</th>\n",
       "      <th>current_house_years</th>\n",
       "      <th>risk_flag</th>\n",
       "    </tr>\n",
       "  </thead>\n",
       "  <tbody>\n",
       "    <tr>\n",
       "      <th>income</th>\n",
       "      <td>1.00</td>\n",
       "      <td>-0.00</td>\n",
       "      <td>0.01</td>\n",
       "      <td>0.00</td>\n",
       "      <td>0.02</td>\n",
       "      <td>0.00</td>\n",
       "      <td>0.00</td>\n",
       "      <td>-0.00</td>\n",
       "      <td>-0.00</td>\n",
       "      <td>0.01</td>\n",
       "      <td>-0.00</td>\n",
       "      <td>-0.00</td>\n",
       "    </tr>\n",
       "    <tr>\n",
       "      <th>age</th>\n",
       "      <td>-0.00</td>\n",
       "      <td>1.00</td>\n",
       "      <td>-0.00</td>\n",
       "      <td>-0.01</td>\n",
       "      <td>-0.01</td>\n",
       "      <td>0.01</td>\n",
       "      <td>-0.01</td>\n",
       "      <td>0.00</td>\n",
       "      <td>-0.00</td>\n",
       "      <td>0.00</td>\n",
       "      <td>-0.02</td>\n",
       "      <td>-0.02</td>\n",
       "    </tr>\n",
       "    <tr>\n",
       "      <th>experience</th>\n",
       "      <td>0.01</td>\n",
       "      <td>-0.00</td>\n",
       "      <td>1.00</td>\n",
       "      <td>-0.00</td>\n",
       "      <td>-0.01</td>\n",
       "      <td>0.01</td>\n",
       "      <td>0.00</td>\n",
       "      <td>-0.03</td>\n",
       "      <td>-0.00</td>\n",
       "      <td>0.65</td>\n",
       "      <td>0.02</td>\n",
       "      <td>-0.03</td>\n",
       "    </tr>\n",
       "    <tr>\n",
       "      <th>married</th>\n",
       "      <td>0.00</td>\n",
       "      <td>-0.01</td>\n",
       "      <td>-0.00</td>\n",
       "      <td>1.00</td>\n",
       "      <td>-0.02</td>\n",
       "      <td>0.00</td>\n",
       "      <td>-0.01</td>\n",
       "      <td>0.01</td>\n",
       "      <td>-0.01</td>\n",
       "      <td>0.00</td>\n",
       "      <td>-0.01</td>\n",
       "      <td>0.02</td>\n",
       "    </tr>\n",
       "    <tr>\n",
       "      <th>house_ownership</th>\n",
       "      <td>0.02</td>\n",
       "      <td>-0.01</td>\n",
       "      <td>-0.01</td>\n",
       "      <td>-0.02</td>\n",
       "      <td>1.00</td>\n",
       "      <td>-0.00</td>\n",
       "      <td>0.00</td>\n",
       "      <td>-0.01</td>\n",
       "      <td>-0.01</td>\n",
       "      <td>-0.01</td>\n",
       "      <td>-0.01</td>\n",
       "      <td>0.02</td>\n",
       "    </tr>\n",
       "    <tr>\n",
       "      <th>car_ownership</th>\n",
       "      <td>0.00</td>\n",
       "      <td>0.01</td>\n",
       "      <td>0.01</td>\n",
       "      <td>0.00</td>\n",
       "      <td>-0.00</td>\n",
       "      <td>1.00</td>\n",
       "      <td>0.01</td>\n",
       "      <td>0.00</td>\n",
       "      <td>0.03</td>\n",
       "      <td>0.01</td>\n",
       "      <td>0.00</td>\n",
       "      <td>-0.02</td>\n",
       "    </tr>\n",
       "    <tr>\n",
       "      <th>profession</th>\n",
       "      <td>0.00</td>\n",
       "      <td>-0.01</td>\n",
       "      <td>0.00</td>\n",
       "      <td>-0.01</td>\n",
       "      <td>0.00</td>\n",
       "      <td>0.01</td>\n",
       "      <td>1.00</td>\n",
       "      <td>0.02</td>\n",
       "      <td>0.00</td>\n",
       "      <td>-0.00</td>\n",
       "      <td>0.00</td>\n",
       "      <td>-0.00</td>\n",
       "    </tr>\n",
       "    <tr>\n",
       "      <th>city</th>\n",
       "      <td>-0.00</td>\n",
       "      <td>0.00</td>\n",
       "      <td>-0.03</td>\n",
       "      <td>0.01</td>\n",
       "      <td>-0.01</td>\n",
       "      <td>0.00</td>\n",
       "      <td>0.02</td>\n",
       "      <td>1.00</td>\n",
       "      <td>-0.04</td>\n",
       "      <td>-0.03</td>\n",
       "      <td>-0.01</td>\n",
       "      <td>0.00</td>\n",
       "    </tr>\n",
       "    <tr>\n",
       "      <th>state</th>\n",
       "      <td>-0.00</td>\n",
       "      <td>-0.00</td>\n",
       "      <td>-0.00</td>\n",
       "      <td>-0.01</td>\n",
       "      <td>-0.01</td>\n",
       "      <td>0.03</td>\n",
       "      <td>0.00</td>\n",
       "      <td>-0.04</td>\n",
       "      <td>1.00</td>\n",
       "      <td>0.01</td>\n",
       "      <td>0.01</td>\n",
       "      <td>-0.00</td>\n",
       "    </tr>\n",
       "    <tr>\n",
       "      <th>current_job_years</th>\n",
       "      <td>0.01</td>\n",
       "      <td>0.00</td>\n",
       "      <td>0.65</td>\n",
       "      <td>0.00</td>\n",
       "      <td>-0.01</td>\n",
       "      <td>0.01</td>\n",
       "      <td>-0.00</td>\n",
       "      <td>-0.03</td>\n",
       "      <td>0.01</td>\n",
       "      <td>1.00</td>\n",
       "      <td>0.01</td>\n",
       "      <td>-0.02</td>\n",
       "    </tr>\n",
       "    <tr>\n",
       "      <th>current_house_years</th>\n",
       "      <td>-0.00</td>\n",
       "      <td>-0.02</td>\n",
       "      <td>0.02</td>\n",
       "      <td>-0.01</td>\n",
       "      <td>-0.01</td>\n",
       "      <td>0.00</td>\n",
       "      <td>0.00</td>\n",
       "      <td>-0.01</td>\n",
       "      <td>0.01</td>\n",
       "      <td>0.01</td>\n",
       "      <td>1.00</td>\n",
       "      <td>-0.00</td>\n",
       "    </tr>\n",
       "    <tr>\n",
       "      <th>risk_flag</th>\n",
       "      <td>-0.00</td>\n",
       "      <td>-0.02</td>\n",
       "      <td>-0.03</td>\n",
       "      <td>0.02</td>\n",
       "      <td>0.02</td>\n",
       "      <td>-0.02</td>\n",
       "      <td>-0.00</td>\n",
       "      <td>0.00</td>\n",
       "      <td>-0.00</td>\n",
       "      <td>-0.02</td>\n",
       "      <td>-0.00</td>\n",
       "      <td>1.00</td>\n",
       "    </tr>\n",
       "  </tbody>\n",
       "</table>\n",
       "</div>"
      ],
      "text/plain": [
       "                     income   age  experience  married  house_ownership  \\\n",
       "income                 1.00 -0.00        0.01     0.00             0.02   \n",
       "age                   -0.00  1.00       -0.00    -0.01            -0.01   \n",
       "experience             0.01 -0.00        1.00    -0.00            -0.01   \n",
       "married                0.00 -0.01       -0.00     1.00            -0.02   \n",
       "house_ownership        0.02 -0.01       -0.01    -0.02             1.00   \n",
       "car_ownership          0.00  0.01        0.01     0.00            -0.00   \n",
       "profession             0.00 -0.01        0.00    -0.01             0.00   \n",
       "city                  -0.00  0.00       -0.03     0.01            -0.01   \n",
       "state                 -0.00 -0.00       -0.00    -0.01            -0.01   \n",
       "current_job_years      0.01  0.00        0.65     0.00            -0.01   \n",
       "current_house_years   -0.00 -0.02        0.02    -0.01            -0.01   \n",
       "risk_flag             -0.00 -0.02       -0.03     0.02             0.02   \n",
       "\n",
       "                     car_ownership  profession  city  state  \\\n",
       "income                        0.00        0.00 -0.00  -0.00   \n",
       "age                           0.01       -0.01  0.00  -0.00   \n",
       "experience                    0.01        0.00 -0.03  -0.00   \n",
       "married                       0.00       -0.01  0.01  -0.01   \n",
       "house_ownership              -0.00        0.00 -0.01  -0.01   \n",
       "car_ownership                 1.00        0.01  0.00   0.03   \n",
       "profession                    0.01        1.00  0.02   0.00   \n",
       "city                          0.00        0.02  1.00  -0.04   \n",
       "state                         0.03        0.00 -0.04   1.00   \n",
       "current_job_years             0.01       -0.00 -0.03   0.01   \n",
       "current_house_years           0.00        0.00 -0.01   0.01   \n",
       "risk_flag                    -0.02       -0.00  0.00  -0.00   \n",
       "\n",
       "                     current_job_years  current_house_years  risk_flag  \n",
       "income                            0.01                -0.00      -0.00  \n",
       "age                               0.00                -0.02      -0.02  \n",
       "experience                        0.65                 0.02      -0.03  \n",
       "married                           0.00                -0.01       0.02  \n",
       "house_ownership                  -0.01                -0.01       0.02  \n",
       "car_ownership                     0.01                 0.00      -0.02  \n",
       "profession                       -0.00                 0.00      -0.00  \n",
       "city                             -0.03                -0.01       0.00  \n",
       "state                             0.01                 0.01      -0.00  \n",
       "current_job_years                 1.00                 0.01      -0.02  \n",
       "current_house_years               0.01                 1.00      -0.00  \n",
       "risk_flag                        -0.02                -0.00       1.00  "
      ]
     },
     "execution_count": 14,
     "metadata": {},
     "output_type": "execute_result"
    }
   ],
   "source": [
    "d=data.corr().round(2)\n",
    "d"
   ]
  },
  {
   "cell_type": "code",
   "execution_count": 15,
   "id": "59747585",
   "metadata": {},
   "outputs": [
    {
     "data": {
      "image/png": "[encoded data removed]",
      "text/plain": [
       "<Figure size 1080x720 with 2 Axes>"
      ]
     },
     "metadata": {
      "needs_background": "light"
     },
     "output_type": "display_data"
    }
   ],
   "source": [
    "plt.figure(figsize=(15,10))\n",
    "heatmap=sns.heatmap(d,linewidth=1,annot=True,cmap=\"coolwarm\")\n",
    "plt.title(\"Heatmap using Seaborn Method\")\n",
    "plt.show()"
   ]
  },
  {
   "cell_type": "markdown",
   "id": "9ac77beb",
   "metadata": {},
   "source": [
    "## Base Model Building"
   ]
  },
  {
   "cell_type": "markdown",
   "id": "d740e398",
   "metadata": {},
   "source": [
    "### Data Splitting "
   ]
  },
  {
   "cell_type": "code",
   "execution_count": 16,
   "id": "e9f3c009",
   "metadata": {},
   "outputs": [],
   "source": [
    "x=data.iloc[:,0:-1]\n",
    "y=data.iloc[:,-1]"
   ]
  },
  {
   "cell_type": "code",
   "execution_count": 17,
   "id": "505e2625",
   "metadata": {},
   "outputs": [
    {
     "data": {
      "text/plain": [
       "0    0\n",
       "1    0\n",
       "2    0\n",
       "3    1\n",
       "4    1\n",
       "Name: risk_flag, dtype: int64"
      ]
     },
     "execution_count": 17,
     "metadata": {},
     "output_type": "execute_result"
    }
   ],
   "source": [
    "y.head()"
   ]
  },
  {
   "cell_type": "code",
   "execution_count": 18,
   "id": "0fec3c30",
   "metadata": {},
   "outputs": [],
   "source": [
    "from sklearn.model_selection import train_test_split"
   ]
  },
  {
   "cell_type": "code",
   "execution_count": 19,
   "id": "4c4145a0",
   "metadata": {},
   "outputs": [
    {
     "data": {
      "text/plain": [
       "((176400, 11), (75600, 11), (176400,), (75600,))"
      ]
     },
     "execution_count": 19,
     "metadata": {},
     "output_type": "execute_result"
    }
   ],
   "source": [
    "x_train,x_test,y_train,y_test = train_test_split(x,y,test_size = .3,random_state = 100)\n",
    "x_train.shape,x_test.shape,y_train.shape,y_test.shape"
   ]
  },
  {
   "cell_type": "markdown",
   "id": "9cf4b6ce",
   "metadata": {},
   "source": [
    "## Logistic Regression"
   ]
  },
  {
   "cell_type": "code",
   "execution_count": 20,
   "id": "6bd655d4",
   "metadata": {},
   "outputs": [],
   "source": [
    "from sklearn.linear_model import LogisticRegression\n",
    "lm=LogisticRegression()"
   ]
  },
  {
   "cell_type": "code",
   "execution_count": 21,
   "id": "c6625ccd",
   "metadata": {},
   "outputs": [
    {
     "data": {
      "text/plain": [
       "LogisticRegression()"
      ]
     },
     "execution_count": 21,
     "metadata": {},
     "output_type": "execute_result"
    }
   ],
   "source": [
    "lm.fit(x_train,y_train)"
   ]
  },
  {
   "cell_type": "code",
   "execution_count": 22,
   "id": "a12f9aa5",
   "metadata": {},
   "outputs": [
    {
     "data": {
      "text/plain": [
       "array([0, 0, 0, ..., 0, 0, 0], dtype=int64)"
      ]
     },
     "execution_count": 22,
     "metadata": {},
     "output_type": "execute_result"
    }
   ],
   "source": [
    "lm=lm.predict(x_test)\n",
    "lm"
   ]
  },
  {
   "cell_type": "code",
   "execution_count": 23,
   "id": "8f1c859c",
   "metadata": {},
   "outputs": [],
   "source": [
    "from  sklearn.metrics import confusion_matrix"
   ]
  },
  {
   "cell_type": "code",
   "execution_count": 24,
   "id": "6a95370f",
   "metadata": {},
   "outputs": [
    {
     "data": {
      "text/plain": [
       "array([[66296,  9304],\n",
       "       [    0,     0]], dtype=int64)"
      ]
     },
     "execution_count": 24,
     "metadata": {},
     "output_type": "execute_result"
    }
   ],
   "source": [
    "c = confusion_matrix(lm,y_test)\n",
    "c"
   ]
  },
  {
   "cell_type": "code",
   "execution_count": 25,
   "id": "b4f31381",
   "metadata": {},
   "outputs": [
    {
     "data": {
      "text/plain": [
       "87.6931216931217"
      ]
     },
     "execution_count": 25,
     "metadata": {},
     "output_type": "execute_result"
    }
   ],
   "source": [
    "acc=c.diagonal().sum()/c.sum()*100\n",
    "acc"
   ]
  },
  {
   "cell_type": "code",
   "execution_count": 26,
   "id": "68999c0f",
   "metadata": {},
   "outputs": [],
   "source": [
    "from sklearn.metrics import classification_report"
   ]
  },
  {
   "cell_type": "code",
   "execution_count": 27,
   "id": "61ffc497",
   "metadata": {},
   "outputs": [
    {
     "name": "stdout",
     "output_type": "stream",
     "text": [
      "              precision    recall  f1-score   support\n",
      "\n",
      "           0       1.00      0.88      0.93     75600\n",
      "           1       0.00      0.00      0.00         0\n",
      "\n",
      "    accuracy                           0.88     75600\n",
      "   macro avg       0.50      0.44      0.47     75600\n",
      "weighted avg       1.00      0.88      0.93     75600\n",
      "\n"
     ]
    }
   ],
   "source": [
    "print(classification_report(lm,y_test))"
   ]
  },
  {
   "cell_type": "markdown",
   "id": "2ee06ffc",
   "metadata": {},
   "source": [
    "## Decision Tree"
   ]
  },
  {
   "cell_type": "code",
   "execution_count": 28,
   "id": "6cd20d11",
   "metadata": {},
   "outputs": [],
   "source": [
    "from sklearn.tree import DecisionTreeClassifier\n",
    "dt=DecisionTreeClassifier()"
   ]
  },
  {
   "cell_type": "code",
   "execution_count": 29,
   "id": "5ef11f17",
   "metadata": {},
   "outputs": [
    {
     "data": {
      "text/plain": [
       "DecisionTreeClassifier()"
      ]
     },
     "execution_count": 29,
     "metadata": {},
     "output_type": "execute_result"
    }
   ],
   "source": [
    "dt.fit(x_train,y_train)"
   ]
  },
  {
   "cell_type": "code",
   "execution_count": 30,
   "id": "34c5be73",
   "metadata": {},
   "outputs": [
    {
     "data": {
      "text/plain": [
       "array([0, 0, 0, ..., 0, 1, 0], dtype=int64)"
      ]
     },
     "execution_count": 30,
     "metadata": {},
     "output_type": "execute_result"
    }
   ],
   "source": [
    "pre1 = dt.predict(x_test)\n",
    "pre1"
   ]
  },
  {
   "cell_type": "code",
   "execution_count": 31,
   "id": "98e782ed",
   "metadata": {},
   "outputs": [
    {
     "data": {
      "text/plain": [
       "array([[61479,  4043],\n",
       "       [ 4817,  5261]], dtype=int64)"
      ]
     },
     "execution_count": 31,
     "metadata": {},
     "output_type": "execute_result"
    }
   ],
   "source": [
    "c1 = confusion_matrix(pre1,y_test)\n",
    "c1"
   ]
  },
  {
   "cell_type": "code",
   "execution_count": 32,
   "id": "332b9158",
   "metadata": {},
   "outputs": [
    {
     "data": {
      "text/plain": [
       "88.28042328042328"
      ]
     },
     "execution_count": 32,
     "metadata": {},
     "output_type": "execute_result"
    }
   ],
   "source": [
    "acc1 = c1.diagonal().sum()/c1.sum()*100\n",
    "acc1"
   ]
  },
  {
   "cell_type": "code",
   "execution_count": 33,
   "id": "c232695b",
   "metadata": {},
   "outputs": [
    {
     "name": "stdout",
     "output_type": "stream",
     "text": [
      "              precision    recall  f1-score   support\n",
      "\n",
      "           0       0.93      0.94      0.93     65522\n",
      "           1       0.57      0.52      0.54     10078\n",
      "\n",
      "    accuracy                           0.88     75600\n",
      "   macro avg       0.75      0.73      0.74     75600\n",
      "weighted avg       0.88      0.88      0.88     75600\n",
      "\n"
     ]
    }
   ],
   "source": [
    "print(classification_report(pre1,y_test))"
   ]
  },
  {
   "cell_type": "markdown",
   "id": "cb675420",
   "metadata": {},
   "source": [
    "## Random Forest"
   ]
  },
  {
   "cell_type": "code",
   "execution_count": 34,
   "id": "73acbf6c",
   "metadata": {},
   "outputs": [],
   "source": [
    "from sklearn.ensemble import RandomForestClassifier\n",
    "rf = RandomForestClassifier()"
   ]
  },
  {
   "cell_type": "code",
   "execution_count": 35,
   "id": "bc82d8f9",
   "metadata": {},
   "outputs": [
    {
     "data": {
      "text/plain": [
       "RandomForestClassifier()"
      ]
     },
     "execution_count": 35,
     "metadata": {},
     "output_type": "execute_result"
    }
   ],
   "source": [
    "rf.fit(x_train,y_train)"
   ]
  },
  {
   "cell_type": "code",
   "execution_count": 36,
   "id": "c791e451",
   "metadata": {},
   "outputs": [
    {
     "data": {
      "text/plain": [
       "array([0, 0, 0, ..., 0, 1, 0], dtype=int64)"
      ]
     },
     "execution_count": 36,
     "metadata": {},
     "output_type": "execute_result"
    }
   ],
   "source": [
    "pre2 = rf.predict(x_test)\n",
    "pre2"
   ]
  },
  {
   "cell_type": "code",
   "execution_count": 37,
   "id": "b925f638",
   "metadata": {},
   "outputs": [
    {
     "data": {
      "text/plain": [
       "array([[63098,  4335],\n",
       "       [ 3198,  4969]], dtype=int64)"
      ]
     },
     "execution_count": 37,
     "metadata": {},
     "output_type": "execute_result"
    }
   ],
   "source": [
    "c2 = confusion_matrix(pre2,y_test)\n",
    "c2"
   ]
  },
  {
   "cell_type": "code",
   "execution_count": 38,
   "id": "7319dbff",
   "metadata": {},
   "outputs": [
    {
     "data": {
      "text/plain": [
       "90.03571428571429"
      ]
     },
     "execution_count": 38,
     "metadata": {},
     "output_type": "execute_result"
    }
   ],
   "source": [
    "acc2 = c2.diagonal().sum()/c2.sum()*100\n",
    "acc2"
   ]
  },
  {
   "cell_type": "code",
   "execution_count": 39,
   "id": "7f37ba79",
   "metadata": {},
   "outputs": [
    {
     "name": "stdout",
     "output_type": "stream",
     "text": [
      "              precision    recall  f1-score   support\n",
      "\n",
      "           0       0.95      0.94      0.94     67433\n",
      "           1       0.53      0.61      0.57      8167\n",
      "\n",
      "    accuracy                           0.90     75600\n",
      "   macro avg       0.74      0.77      0.76     75600\n",
      "weighted avg       0.91      0.90      0.90     75600\n",
      "\n"
     ]
    }
   ],
   "source": [
    "print(classification_report(pre2,y_test))"
   ]
  },
  {
   "cell_type": "markdown",
   "id": "a515589b",
   "metadata": {},
   "source": [
    "## Adaboost"
   ]
  },
  {
   "cell_type": "code",
   "execution_count": 40,
   "id": "995ecb0e",
   "metadata": {},
   "outputs": [],
   "source": [
    "from sklearn.ensemble import AdaBoostClassifier\n",
    "from sklearn.tree import DecisionTreeClassifier\n",
    "ab=AdaBoostClassifier(DecisionTreeClassifier(),n_estimators=5)"
   ]
  },
  {
   "cell_type": "code",
   "execution_count": 41,
   "id": "aa34a815",
   "metadata": {},
   "outputs": [
    {
     "data": {
      "text/plain": [
       "AdaBoostClassifier(base_estimator=DecisionTreeClassifier(), n_estimators=5)"
      ]
     },
     "execution_count": 41,
     "metadata": {},
     "output_type": "execute_result"
    }
   ],
   "source": [
    "ab.fit(x_train,y_train)"
   ]
  },
  {
   "cell_type": "code",
   "execution_count": 42,
   "id": "c186484c",
   "metadata": {},
   "outputs": [
    {
     "data": {
      "text/plain": [
       "array([0, 0, 0, ..., 0, 1, 0], dtype=int64)"
      ]
     },
     "execution_count": 42,
     "metadata": {},
     "output_type": "execute_result"
    }
   ],
   "source": [
    "ab_pred=ab.predict(x_test)\n",
    "ab_pred"
   ]
  },
  {
   "cell_type": "code",
   "execution_count": 43,
   "id": "1f5e5db8",
   "metadata": {},
   "outputs": [
    {
     "data": {
      "text/plain": [
       "array([[61461,  4023],\n",
       "       [ 4835,  5281]], dtype=int64)"
      ]
     },
     "execution_count": 43,
     "metadata": {},
     "output_type": "execute_result"
    }
   ],
   "source": [
    "c3=confusion_matrix(ab_pred,y_test)\n",
    "c3"
   ]
  },
  {
   "cell_type": "code",
   "execution_count": 44,
   "id": "608a88e3",
   "metadata": {},
   "outputs": [
    {
     "data": {
      "text/plain": [
       "88.28306878306879"
      ]
     },
     "execution_count": 44,
     "metadata": {},
     "output_type": "execute_result"
    }
   ],
   "source": [
    "acc_ab=c3.diagonal().sum()/c3.sum()*100\n",
    "acc_ab"
   ]
  },
  {
   "cell_type": "code",
   "execution_count": 45,
   "id": "2291f6ab",
   "metadata": {},
   "outputs": [
    {
     "name": "stdout",
     "output_type": "stream",
     "text": [
      "              precision    recall  f1-score   support\n",
      "\n",
      "           0       0.93      0.94      0.93     65484\n",
      "           1       0.57      0.52      0.54     10116\n",
      "\n",
      "    accuracy                           0.88     75600\n",
      "   macro avg       0.75      0.73      0.74     75600\n",
      "weighted avg       0.88      0.88      0.88     75600\n",
      "\n"
     ]
    }
   ],
   "source": [
    "print(classification_report(ab_pred,y_test))"
   ]
  },
  {
   "cell_type": "markdown",
   "id": "101146a9",
   "metadata": {},
   "source": [
    "## XG-Boost"
   ]
  },
  {
   "cell_type": "code",
   "execution_count": 46,
   "id": "e4551a1f",
   "metadata": {},
   "outputs": [],
   "source": [
    "from xgboost import XGBClassifier\n",
    "xg=XGBClassifier()"
   ]
  },
  {
   "cell_type": "code",
   "execution_count": 47,
   "id": "647a3659",
   "metadata": {},
   "outputs": [
    {
     "name": "stdout",
     "output_type": "stream",
     "text": [
      "[13:28:32] WARNING: ..\\src\\learner.cc:1115: Starting in XGBoost 1.3.0, the default evaluation metric used with the objective 'binary:logistic' was changed from 'error' to 'logloss'. Explicitly set eval_metric if you'd like to restore the old behavior.\n"
     ]
    },
    {
     "data": {
      "text/plain": [
       "XGBClassifier(base_score=0.5, booster='gbtree', colsample_bylevel=1,\n",
       "              colsample_bynode=1, colsample_bytree=1, enable_categorical=False,\n",
       "              gamma=0, gpu_id=-1, importance_type=None,\n",
       "              interaction_constraints='', learning_rate=0.300000012,\n",
       "              max_delta_step=0, max_depth=6, min_child_weight=1, missing=nan,\n",
       "              monotone_constraints='()', n_estimators=100, n_jobs=4,\n",
       "              num_parallel_tree=1, predictor='auto', random_state=0,\n",
       "              reg_alpha=0, reg_lambda=1, scale_pos_weight=1, subsample=1,\n",
       "              tree_method='exact', validate_parameters=1, verbosity=None)"
      ]
     },
     "execution_count": 47,
     "metadata": {},
     "output_type": "execute_result"
    }
   ],
   "source": [
    "xg.fit(x_train,y_train)"
   ]
  },
  {
   "cell_type": "code",
   "execution_count": 48,
   "id": "2cfbb365",
   "metadata": {},
   "outputs": [
    {
     "data": {
      "text/plain": [
       "array([0, 0, 0, ..., 0, 0, 0], dtype=int64)"
      ]
     },
     "execution_count": 48,
     "metadata": {},
     "output_type": "execute_result"
    }
   ],
   "source": [
    "xg_pred=xg.predict(x_test)\n",
    "xg_pred"
   ]
  },
  {
   "cell_type": "code",
   "execution_count": 49,
   "id": "20d4abfd",
   "metadata": {},
   "outputs": [
    {
     "data": {
      "text/plain": [
       "array([[65306,  7416],\n",
       "       [  990,  1888]], dtype=int64)"
      ]
     },
     "execution_count": 49,
     "metadata": {},
     "output_type": "execute_result"
    }
   ],
   "source": [
    "c4=confusion_matrix(xg_pred,y_test)\n",
    "c4"
   ]
  },
  {
   "cell_type": "code",
   "execution_count": 50,
   "id": "86b32902",
   "metadata": {},
   "outputs": [
    {
     "data": {
      "text/plain": [
       "88.88095238095238"
      ]
     },
     "execution_count": 50,
     "metadata": {},
     "output_type": "execute_result"
    }
   ],
   "source": [
    "acc_xg=c4.diagonal().sum()/c4.sum()*100\n",
    "acc_xg"
   ]
  },
  {
   "cell_type": "code",
   "execution_count": 51,
   "id": "201d1ba2",
   "metadata": {},
   "outputs": [
    {
     "name": "stdout",
     "output_type": "stream",
     "text": [
      "              precision    recall  f1-score   support\n",
      "\n",
      "           0       0.99      0.90      0.94     72722\n",
      "           1       0.20      0.66      0.31      2878\n",
      "\n",
      "    accuracy                           0.89     75600\n",
      "   macro avg       0.59      0.78      0.62     75600\n",
      "weighted avg       0.96      0.89      0.92     75600\n",
      "\n"
     ]
    }
   ],
   "source": [
    "print(classification_report(xg_pred,y_test))"
   ]
  },
  {
   "cell_type": "markdown",
   "id": "a5d184ee",
   "metadata": {},
   "source": [
    "##  KNN"
   ]
  },
  {
   "cell_type": "code",
   "execution_count": 52,
   "id": "572f6f98",
   "metadata": {},
   "outputs": [],
   "source": [
    "from sklearn.neighbors import KNeighborsClassifier\n",
    "kn=KNeighborsClassifier(n_neighbors=25)"
   ]
  },
  {
   "cell_type": "code",
   "execution_count": 53,
   "id": "ee8f08b9",
   "metadata": {},
   "outputs": [
    {
     "data": {
      "text/plain": [
       "KNeighborsClassifier(n_neighbors=25)"
      ]
     },
     "execution_count": 53,
     "metadata": {},
     "output_type": "execute_result"
    }
   ],
   "source": [
    "kn.fit(x_train,y_train)"
   ]
  },
  {
   "cell_type": "code",
   "execution_count": 54,
   "id": "6ee9d32c",
   "metadata": {},
   "outputs": [
    {
     "data": {
      "text/plain": [
       "array([0, 0, 0, ..., 0, 1, 0], dtype=int64)"
      ]
     },
     "execution_count": 54,
     "metadata": {},
     "output_type": "execute_result"
    }
   ],
   "source": [
    "kp=kn.predict(x_test)\n",
    "kp"
   ]
  },
  {
   "cell_type": "code",
   "execution_count": 55,
   "id": "b89bf61b",
   "metadata": {},
   "outputs": [
    {
     "data": {
      "text/plain": [
       "array([[62748,  4607],\n",
       "       [ 3548,  4697]], dtype=int64)"
      ]
     },
     "execution_count": 55,
     "metadata": {},
     "output_type": "execute_result"
    }
   ],
   "source": [
    "c5=confusion_matrix(kp,y_test)\n",
    "c5"
   ]
  },
  {
   "cell_type": "code",
   "execution_count": 56,
   "id": "8c85b212",
   "metadata": {},
   "outputs": [
    {
     "data": {
      "text/plain": [
       "89.21296296296296"
      ]
     },
     "execution_count": 56,
     "metadata": {},
     "output_type": "execute_result"
    }
   ],
   "source": [
    "acck=c5.diagonal().sum()/c5.sum()*100\n",
    "acck"
   ]
  },
  {
   "cell_type": "code",
   "execution_count": 57,
   "id": "c764d7cb",
   "metadata": {},
   "outputs": [
    {
     "name": "stdout",
     "output_type": "stream",
     "text": [
      "              precision    recall  f1-score   support\n",
      "\n",
      "           0       0.95      0.93      0.94     67355\n",
      "           1       0.50      0.57      0.54      8245\n",
      "\n",
      "    accuracy                           0.89     75600\n",
      "   macro avg       0.73      0.75      0.74     75600\n",
      "weighted avg       0.90      0.89      0.89     75600\n",
      "\n"
     ]
    }
   ],
   "source": [
    "print(classification_report(kp,y_test))"
   ]
  },
  {
   "cell_type": "markdown",
   "id": "f7274444",
   "metadata": {},
   "source": [
    "##  Support Vector Machine"
   ]
  },
  {
   "cell_type": "code",
   "execution_count": 58,
   "id": "10f79131",
   "metadata": {},
   "outputs": [],
   "source": [
    "# from sklearn.svm import SVC\n",
    "# svc=SVC()"
   ]
  },
  {
   "cell_type": "code",
   "execution_count": 59,
   "id": "f8568cc2",
   "metadata": {},
   "outputs": [],
   "source": [
    "# svc.fit(x_train,y_train)"
   ]
  },
  {
   "cell_type": "code",
   "execution_count": 60,
   "id": "d7457475",
   "metadata": {},
   "outputs": [],
   "source": [
    "# svm_pred=svc.predict(x_test)\n",
    "# svm_pred"
   ]
  },
  {
   "cell_type": "code",
   "execution_count": 61,
   "id": "bb00af63",
   "metadata": {},
   "outputs": [],
   "source": [
    "# m7=confusion_matrix(svm_pred,y_test)\n",
    "# m7"
   ]
  },
  {
   "cell_type": "code",
   "execution_count": 62,
   "id": "5bc46faa",
   "metadata": {},
   "outputs": [],
   "source": [
    "# acc_svc=m7.diagonal().sum()/m7.sum()*100\n",
    "# acc_svc"
   ]
  },
  {
   "cell_type": "code",
   "execution_count": 63,
   "id": "a777a4ac",
   "metadata": {},
   "outputs": [],
   "source": [
    "# print(classification_report(svm_pred,y_test))"
   ]
  },
  {
   "cell_type": "markdown",
   "id": "8b63a69b",
   "metadata": {},
   "source": [
    "##  Naive Bayes"
   ]
  },
  {
   "cell_type": "code",
   "execution_count": 64,
   "id": "3ed98425",
   "metadata": {},
   "outputs": [],
   "source": [
    "from sklearn.naive_bayes import MultinomialNB"
   ]
  },
  {
   "cell_type": "code",
   "execution_count": 65,
   "id": "bb8f7178",
   "metadata": {},
   "outputs": [],
   "source": [
    "nb=MultinomialNB()"
   ]
  },
  {
   "cell_type": "code",
   "execution_count": 66,
   "id": "a9ee2858",
   "metadata": {},
   "outputs": [
    {
     "data": {
      "text/plain": [
       "MultinomialNB()"
      ]
     },
     "execution_count": 66,
     "metadata": {},
     "output_type": "execute_result"
    }
   ],
   "source": [
    "nb.fit(x_train,y_train)"
   ]
  },
  {
   "cell_type": "code",
   "execution_count": 67,
   "id": "22c2aeb0",
   "metadata": {},
   "outputs": [],
   "source": [
    "nb_pred=nb.predict(x_test)"
   ]
  },
  {
   "cell_type": "code",
   "execution_count": 68,
   "id": "ef505e1c",
   "metadata": {},
   "outputs": [
    {
     "data": {
      "text/plain": [
       "array([[65261,  9106],\n",
       "       [ 1035,   198]], dtype=int64)"
      ]
     },
     "execution_count": 68,
     "metadata": {},
     "output_type": "execute_result"
    }
   ],
   "source": [
    "c6=confusion_matrix(nb_pred,y_test)\n",
    "c6"
   ]
  },
  {
   "cell_type": "code",
   "execution_count": 69,
   "id": "ae068d93",
   "metadata": {},
   "outputs": [
    {
     "data": {
      "text/plain": [
       "86.58597883597884"
      ]
     },
     "execution_count": 69,
     "metadata": {},
     "output_type": "execute_result"
    }
   ],
   "source": [
    "acc_nb=c6.diagonal().sum()/c6.sum()*100\n",
    "acc_nb"
   ]
  },
  {
   "cell_type": "code",
   "execution_count": 70,
   "id": "0ad588b6",
   "metadata": {},
   "outputs": [
    {
     "name": "stdout",
     "output_type": "stream",
     "text": [
      "              precision    recall  f1-score   support\n",
      "\n",
      "           0       0.98      0.88      0.93     74367\n",
      "           1       0.02      0.16      0.04      1233\n",
      "\n",
      "    accuracy                           0.87     75600\n",
      "   macro avg       0.50      0.52      0.48     75600\n",
      "weighted avg       0.97      0.87      0.91     75600\n",
      "\n"
     ]
    }
   ],
   "source": [
    "print(classification_report(nb_pred,y_test))"
   ]
  },
  {
   "cell_type": "markdown",
   "id": "802582c2",
   "metadata": {},
   "source": [
    "# Class Imbalance Technique"
   ]
  },
  {
   "cell_type": "markdown",
   "id": "f3178cd2",
   "metadata": {},
   "source": [
    "## SMOTE(Synthetic Minority Oversampling Techniques)"
   ]
  },
  {
   "cell_type": "code",
   "execution_count": 71,
   "id": "dfcde737",
   "metadata": {},
   "outputs": [
    {
     "data": {
      "text/plain": [
       "0    221004\n",
       "1     30996\n",
       "Name: risk_flag, dtype: int64"
      ]
     },
     "execution_count": 71,
     "metadata": {},
     "output_type": "execute_result"
    }
   ],
   "source": [
    "data.risk_flag.value_counts()"
   ]
  },
  {
   "cell_type": "code",
   "execution_count": 72,
   "id": "18418af2",
   "metadata": {},
   "outputs": [],
   "source": [
    "from imblearn.over_sampling import SMOTE\n",
    "sm=SMOTE()"
   ]
  },
  {
   "cell_type": "code",
   "execution_count": 73,
   "id": "070a6b88",
   "metadata": {},
   "outputs": [],
   "source": [
    "x1=data.iloc[:,0:-1]\n",
    "y1=data.iloc[:,-1]"
   ]
  },
  {
   "cell_type": "code",
   "execution_count": 74,
   "id": "fa97ecf7",
   "metadata": {},
   "outputs": [],
   "source": [
    "x_s,y_s=sm.fit_resample(x1,y1)"
   ]
  },
  {
   "cell_type": "code",
   "execution_count": 75,
   "id": "0768e916",
   "metadata": {},
   "outputs": [
    {
     "data": {
      "text/plain": [
       "((442008, 11), (442008,))"
      ]
     },
     "execution_count": 75,
     "metadata": {},
     "output_type": "execute_result"
    }
   ],
   "source": [
    "x_s.shape,y_s.shape"
   ]
  },
  {
   "cell_type": "code",
   "execution_count": 76,
   "id": "ab92e7bf",
   "metadata": {},
   "outputs": [
    {
     "data": {
      "text/plain": [
       "0    221004\n",
       "1    221004\n",
       "Name: risk_flag, dtype: int64"
      ]
     },
     "execution_count": 76,
     "metadata": {},
     "output_type": "execute_result"
    }
   ],
   "source": [
    "y_s.value_counts()"
   ]
  },
  {
   "cell_type": "code",
   "execution_count": 77,
   "id": "14f133eb",
   "metadata": {},
   "outputs": [
    {
     "data": {
      "text/plain": [
       "<AxesSubplot:xlabel='risk_flag', ylabel='count'>"
      ]
     },
     "execution_count": 77,
     "metadata": {},
     "output_type": "execute_result"
    },
    {
     "data": {
      "image/png": "[encoded data removed]",
      "text/plain": [
       "<Figure size 432x288 with 1 Axes>"
      ]
     },
     "metadata": {
      "needs_background": "light"
     },
     "output_type": "display_data"
    }
   ],
   "source": [
    "sns.countplot(y_s)"
   ]
  },
  {
   "cell_type": "markdown",
   "id": "6bd6382f",
   "metadata": {},
   "source": [
    "## Outlier Treatment"
   ]
  },
  {
   "cell_type": "code",
   "execution_count": 78,
   "id": "5a799a8a",
   "metadata": {},
   "outputs": [
    {
     "data": {
      "image/png": "[encoded data removed]",
      "text/plain": [
       "<Figure size 1440x720 with 1 Axes>"
      ]
     },
     "metadata": {
      "needs_background": "light"
     },
     "output_type": "display_data"
    }
   ],
   "source": [
    "x_s.boxplot(figsize=(20,10))\n",
    "plt.show()"
   ]
  },
  {
   "cell_type": "markdown",
   "id": "ffdee3e0",
   "metadata": {},
   "source": [
    "need not to do outlier tretment"
   ]
  },
  {
   "cell_type": "markdown",
   "id": "40cdc37f",
   "metadata": {},
   "source": [
    "##  Skewness Treatment"
   ]
  },
  {
   "cell_type": "code",
   "execution_count": 79,
   "id": "0f52554b",
   "metadata": {},
   "outputs": [
    {
     "data": {
      "text/plain": [
       "income                 0.000853\n",
       "age                    0.017681\n",
       "experience             0.027835\n",
       "married               -2.591448\n",
       "house_ownership       -3.840946\n",
       "car_ownership          1.047722\n",
       "profession            -0.033921\n",
       "city                   0.009601\n",
       "state                  0.020813\n",
       "current_job_years      0.292281\n",
       "current_house_years    0.046561\n",
       "dtype: float64"
      ]
     },
     "execution_count": 79,
     "metadata": {},
     "output_type": "execute_result"
    }
   ],
   "source": [
    "x_s.skew()"
   ]
  },
  {
   "cell_type": "code",
   "execution_count": 80,
   "id": "bfba38bc",
   "metadata": {},
   "outputs": [
    {
     "data": {
      "text/plain": [
       "0.0"
      ]
     },
     "execution_count": 80,
     "metadata": {},
     "output_type": "execute_result"
    }
   ],
   "source": [
    "y_s.skew()"
   ]
  },
  {
   "cell_type": "markdown",
   "id": "39d7e0c4",
   "metadata": {},
   "source": [
    "no need to treat skewness "
   ]
  },
  {
   "cell_type": "markdown",
   "id": "a5715611",
   "metadata": {},
   "source": [
    "# Data splitting"
   ]
  },
  {
   "cell_type": "code",
   "execution_count": 81,
   "id": "4b4bdce7",
   "metadata": {},
   "outputs": [
    {
     "data": {
      "text/plain": [
       "((353606, 11), (88402, 11), (353606,), (88402,))"
      ]
     },
     "execution_count": 81,
     "metadata": {},
     "output_type": "execute_result"
    }
   ],
   "source": [
    "x_tr,x_te,y_tr,y_te=train_test_split(x_s,y_s,test_size=0.2,random_state=100)\n",
    "x_tr.shape,x_te.shape,y_tr.shape,y_te.shape"
   ]
  },
  {
   "cell_type": "markdown",
   "id": "14c046e4",
   "metadata": {},
   "source": [
    "##  Logistic Regression"
   ]
  },
  {
   "cell_type": "code",
   "execution_count": 83,
   "id": "9b348537",
   "metadata": {},
   "outputs": [
    {
     "data": {
      "text/plain": [
       "LogisticRegression()"
      ]
     },
     "execution_count": 83,
     "metadata": {},
     "output_type": "execute_result"
    }
   ],
   "source": [
    "lm=LogisticRegression()\n",
    "lm.fit(x_tr,y_tr)"
   ]
  },
  {
   "cell_type": "code",
   "execution_count": 84,
   "id": "1212e52f",
   "metadata": {},
   "outputs": [
    {
     "data": {
      "text/plain": [
       "array([0, 0, 0, ..., 0, 0, 0], dtype=int64)"
      ]
     },
     "execution_count": 84,
     "metadata": {},
     "output_type": "execute_result"
    }
   ],
   "source": [
    "p1=lm.predict(x_te)\n",
    "p1"
   ]
  },
  {
   "cell_type": "code",
   "execution_count": 85,
   "id": "8de35bc5",
   "metadata": {},
   "outputs": [
    {
     "data": {
      "text/plain": [
       "array([[44187, 44215],\n",
       "       [    0,     0]], dtype=int64)"
      ]
     },
     "execution_count": 85,
     "metadata": {},
     "output_type": "execute_result"
    }
   ],
   "source": [
    "cm1=confusion_matrix(p1,y_te)\n",
    "cm1"
   ]
  },
  {
   "cell_type": "code",
   "execution_count": 86,
   "id": "917692f3",
   "metadata": {},
   "outputs": [
    {
     "data": {
      "text/plain": [
       "49.98416325422502"
      ]
     },
     "execution_count": 86,
     "metadata": {},
     "output_type": "execute_result"
    }
   ],
   "source": [
    "ac1=cm1.diagonal().sum()/cm1.sum()*100\n",
    "ac1"
   ]
  },
  {
   "cell_type": "code",
   "execution_count": 87,
   "id": "24445951",
   "metadata": {},
   "outputs": [
    {
     "name": "stdout",
     "output_type": "stream",
     "text": [
      "              precision    recall  f1-score   support\n",
      "\n",
      "           0       1.00      0.50      0.67     88402\n",
      "           1       0.00      0.00      0.00         0\n",
      "\n",
      "    accuracy                           0.50     88402\n",
      "   macro avg       0.50      0.25      0.33     88402\n",
      "weighted avg       1.00      0.50      0.67     88402\n",
      "\n"
     ]
    }
   ],
   "source": [
    "print(classification_report(p1,y_te))"
   ]
  },
  {
   "cell_type": "markdown",
   "id": "cf626ab2",
   "metadata": {},
   "source": [
    "## Decision Tree"
   ]
  },
  {
   "cell_type": "code",
   "execution_count": 88,
   "id": "b947030b",
   "metadata": {},
   "outputs": [
    {
     "data": {
      "text/plain": [
       "DecisionTreeClassifier()"
      ]
     },
     "execution_count": 88,
     "metadata": {},
     "output_type": "execute_result"
    }
   ],
   "source": [
    "dt.fit(x_tr,y_tr)"
   ]
  },
  {
   "cell_type": "code",
   "execution_count": 89,
   "id": "7e4b28c4",
   "metadata": {},
   "outputs": [
    {
     "data": {
      "text/plain": [
       "array([0, 1, 1, ..., 0, 1, 0], dtype=int64)"
      ]
     },
     "execution_count": 89,
     "metadata": {},
     "output_type": "execute_result"
    }
   ],
   "source": [
    "p2=dt.predict(x_te)\n",
    "p2"
   ]
  },
  {
   "cell_type": "code",
   "execution_count": 90,
   "id": "f7d0823c",
   "metadata": {},
   "outputs": [
    {
     "data": {
      "text/plain": [
       "array([[38069,  2291],\n",
       "       [ 6118, 41924]], dtype=int64)"
      ]
     },
     "execution_count": 90,
     "metadata": {},
     "output_type": "execute_result"
    }
   ],
   "source": [
    "cm2=confusion_matrix(p2,y_te)\n",
    "cm2"
   ]
  },
  {
   "cell_type": "code",
   "execution_count": 91,
   "id": "e5cc6da1",
   "metadata": {},
   "outputs": [
    {
     "data": {
      "text/plain": [
       "90.48777176986947"
      ]
     },
     "execution_count": 91,
     "metadata": {},
     "output_type": "execute_result"
    }
   ],
   "source": [
    "ac2=cm2.diagonal().sum()/cm2.sum()*100\n",
    "ac2"
   ]
  },
  {
   "cell_type": "code",
   "execution_count": 92,
   "id": "67b1a236",
   "metadata": {},
   "outputs": [
    {
     "name": "stdout",
     "output_type": "stream",
     "text": [
      "              precision    recall  f1-score   support\n",
      "\n",
      "           0       0.86      0.94      0.90     40360\n",
      "           1       0.95      0.87      0.91     48042\n",
      "\n",
      "    accuracy                           0.90     88402\n",
      "   macro avg       0.90      0.91      0.90     88402\n",
      "weighted avg       0.91      0.90      0.91     88402\n",
      "\n"
     ]
    }
   ],
   "source": [
    "print(classification_report(p2,y_te))"
   ]
  },
  {
   "cell_type": "markdown",
   "id": "9082785c",
   "metadata": {},
   "source": [
    "##  Random Forest"
   ]
  },
  {
   "cell_type": "code",
   "execution_count": 93,
   "id": "a44c548f",
   "metadata": {},
   "outputs": [
    {
     "data": {
      "text/plain": [
       "RandomForestClassifier()"
      ]
     },
     "execution_count": 93,
     "metadata": {},
     "output_type": "execute_result"
    }
   ],
   "source": [
    "rf.fit(x_tr,y_tr)"
   ]
  },
  {
   "cell_type": "code",
   "execution_count": 94,
   "id": "03695f18",
   "metadata": {},
   "outputs": [
    {
     "data": {
      "text/plain": [
       "array([0, 1, 1, ..., 0, 1, 1], dtype=int64)"
      ]
     },
     "execution_count": 94,
     "metadata": {},
     "output_type": "execute_result"
    }
   ],
   "source": [
    "p3=rf.predict(x_te)\n",
    "p3"
   ]
  },
  {
   "cell_type": "code",
   "execution_count": 95,
   "id": "57fecda6",
   "metadata": {},
   "outputs": [
    {
     "data": {
      "text/plain": [
       "array([[38761,  1299],\n",
       "       [ 5426, 42916]], dtype=int64)"
      ]
     },
     "execution_count": 95,
     "metadata": {},
     "output_type": "execute_result"
    }
   ],
   "source": [
    "cm3=confusion_matrix(p3,y_te)\n",
    "cm3"
   ]
  },
  {
   "cell_type": "code",
   "execution_count": 96,
   "id": "c03dec0d",
   "metadata": {},
   "outputs": [
    {
     "data": {
      "text/plain": [
       "92.39270604737449"
      ]
     },
     "execution_count": 96,
     "metadata": {},
     "output_type": "execute_result"
    }
   ],
   "source": [
    "ac3=cm3.diagonal().sum()/cm3.sum()*100\n",
    "ac3"
   ]
  },
  {
   "cell_type": "code",
   "execution_count": 97,
   "id": "a0b58088",
   "metadata": {},
   "outputs": [
    {
     "name": "stdout",
     "output_type": "stream",
     "text": [
      "              precision    recall  f1-score   support\n",
      "\n",
      "           0       0.88      0.97      0.92     40060\n",
      "           1       0.97      0.89      0.93     48342\n",
      "\n",
      "    accuracy                           0.92     88402\n",
      "   macro avg       0.92      0.93      0.92     88402\n",
      "weighted avg       0.93      0.92      0.92     88402\n",
      "\n"
     ]
    }
   ],
   "source": [
    "print(classification_report(p3,y_te))"
   ]
  },
  {
   "cell_type": "markdown",
   "id": "35c1330f",
   "metadata": {},
   "source": [
    "### AUCROC Curve for Random Forest Model "
   ]
  },
  {
   "cell_type": "code",
   "execution_count": 98,
   "id": "d640f8b2",
   "metadata": {},
   "outputs": [],
   "source": [
    "from sklearn.metrics import roc_auc_score\n",
    "from sklearn.metrics import roc_curve"
   ]
  },
  {
   "cell_type": "code",
   "execution_count": 99,
   "id": "ecaa8bd4",
   "metadata": {},
   "outputs": [],
   "source": [
    "pred=rf.predict_proba(x_te)"
   ]
  },
  {
   "cell_type": "code",
   "execution_count": 100,
   "id": "ef1e64e1",
   "metadata": {},
   "outputs": [],
   "source": [
    "roc=roc_auc_score(p3,y_te)\n",
    "df1=pd.DataFrame(pred)"
   ]
  },
  {
   "cell_type": "code",
   "execution_count": 101,
   "id": "1270fe99",
   "metadata": {},
   "outputs": [
    {
     "data": {
      "image/png": "[encoded data removed]",
      "text/plain": [
       "<Figure size 432x288 with 1 Axes>"
      ]
     },
     "metadata": {
      "needs_background": "light"
     },
     "output_type": "display_data"
    }
   ],
   "source": [
    "fpr,tpr,threshold=roc_curve(y_te,df1.iloc[:,1])\n",
    "plt.plot(fpr,tpr)\n",
    "plt.plot([0, 1], [0, 1], 'k--' )\n",
    "plt.xlabel('False Positive Rate')\n",
    "plt.ylabel('True Positive Rate')\n",
    "plt.title('Random Forest ROC Curve',fontsize=16)\n",
    "plt.show();"
   ]
  },
  {
   "cell_type": "markdown",
   "id": "6615c41c",
   "metadata": {},
   "source": [
    "##  Adaboost"
   ]
  },
  {
   "cell_type": "code",
   "execution_count": 102,
   "id": "3af74384",
   "metadata": {},
   "outputs": [
    {
     "data": {
      "text/plain": [
       "AdaBoostClassifier(base_estimator=DecisionTreeClassifier(), n_estimators=5)"
      ]
     },
     "execution_count": 102,
     "metadata": {},
     "output_type": "execute_result"
    }
   ],
   "source": [
    "ab.fit(x_tr,y_tr)"
   ]
  },
  {
   "cell_type": "code",
   "execution_count": 103,
   "id": "f24a40ab",
   "metadata": {},
   "outputs": [
    {
     "data": {
      "text/plain": [
       "array([0, 1, 1, ..., 0, 1, 0], dtype=int64)"
      ]
     },
     "execution_count": 103,
     "metadata": {},
     "output_type": "execute_result"
    }
   ],
   "source": [
    "p4=dt.predict(x_te)\n",
    "p4"
   ]
  },
  {
   "cell_type": "code",
   "execution_count": 104,
   "id": "50ace893",
   "metadata": {},
   "outputs": [
    {
     "data": {
      "text/plain": [
       "array([[38069,  2291],\n",
       "       [ 6118, 41924]], dtype=int64)"
      ]
     },
     "execution_count": 104,
     "metadata": {},
     "output_type": "execute_result"
    }
   ],
   "source": [
    "cm4=confusion_matrix(p4,y_te)\n",
    "cm4"
   ]
  },
  {
   "cell_type": "code",
   "execution_count": 105,
   "id": "fa1b9e41",
   "metadata": {},
   "outputs": [
    {
     "data": {
      "text/plain": [
       "90.48777176986947"
      ]
     },
     "execution_count": 105,
     "metadata": {},
     "output_type": "execute_result"
    }
   ],
   "source": [
    "ac4=cm4.diagonal().sum()/cm4.sum()*100\n",
    "ac4"
   ]
  },
  {
   "cell_type": "code",
   "execution_count": 106,
   "id": "e6f2c37f",
   "metadata": {},
   "outputs": [
    {
     "name": "stdout",
     "output_type": "stream",
     "text": [
      "              precision    recall  f1-score   support\n",
      "\n",
      "           0       0.86      0.94      0.90     40360\n",
      "           1       0.95      0.87      0.91     48042\n",
      "\n",
      "    accuracy                           0.90     88402\n",
      "   macro avg       0.90      0.91      0.90     88402\n",
      "weighted avg       0.91      0.90      0.91     88402\n",
      "\n"
     ]
    }
   ],
   "source": [
    "print(classification_report(p4,y_te))"
   ]
  },
  {
   "cell_type": "markdown",
   "id": "18ebf406",
   "metadata": {},
   "source": [
    "## XG Boost"
   ]
  },
  {
   "cell_type": "code",
   "execution_count": 107,
   "id": "aec5d524",
   "metadata": {},
   "outputs": [
    {
     "name": "stdout",
     "output_type": "stream",
     "text": [
      "[13:30:56] WARNING: ..\\src\\learner.cc:1115: Starting in XGBoost 1.3.0, the default evaluation metric used with the objective 'binary:logistic' was changed from 'error' to 'logloss'. Explicitly set eval_metric if you'd like to restore the old behavior.\n"
     ]
    },
    {
     "data": {
      "text/plain": [
       "XGBClassifier(base_score=0.5, booster='gbtree', colsample_bylevel=1,\n",
       "              colsample_bynode=1, colsample_bytree=1, enable_categorical=False,\n",
       "              gamma=0, gpu_id=-1, importance_type=None,\n",
       "              interaction_constraints='', learning_rate=0.300000012,\n",
       "              max_delta_step=0, max_depth=6, min_child_weight=1, missing=nan,\n",
       "              monotone_constraints='()', n_estimators=100, n_jobs=4,\n",
       "              num_parallel_tree=1, predictor='auto', random_state=0,\n",
       "              reg_alpha=0, reg_lambda=1, scale_pos_weight=1, subsample=1,\n",
       "              tree_method='exact', validate_parameters=1, verbosity=None)"
      ]
     },
     "execution_count": 107,
     "metadata": {},
     "output_type": "execute_result"
    }
   ],
   "source": [
    "xg.fit(x_tr,y_tr)"
   ]
  },
  {
   "cell_type": "code",
   "execution_count": 108,
   "id": "0061eb16",
   "metadata": {},
   "outputs": [
    {
     "data": {
      "text/plain": [
       "array([0, 1, 1, ..., 0, 1, 0], dtype=int64)"
      ]
     },
     "execution_count": 108,
     "metadata": {},
     "output_type": "execute_result"
    }
   ],
   "source": [
    "p5=xg.predict(x_te)\n",
    "p5"
   ]
  },
  {
   "cell_type": "code",
   "execution_count": 109,
   "id": "0588b782",
   "metadata": {},
   "outputs": [
    {
     "data": {
      "text/plain": [
       "array([[37730,  3778],\n",
       "       [ 6457, 40437]], dtype=int64)"
      ]
     },
     "execution_count": 109,
     "metadata": {},
     "output_type": "execute_result"
    }
   ],
   "source": [
    "cm5=confusion_matrix(p5,y_te)\n",
    "cm5"
   ]
  },
  {
   "cell_type": "code",
   "execution_count": 110,
   "id": "d0bd5e57",
   "metadata": {},
   "outputs": [
    {
     "data": {
      "text/plain": [
       "88.42220764236103"
      ]
     },
     "execution_count": 110,
     "metadata": {},
     "output_type": "execute_result"
    }
   ],
   "source": [
    "ac5=cm5.diagonal().sum()/cm5.sum()*100\n",
    "ac5"
   ]
  },
  {
   "cell_type": "code",
   "execution_count": 111,
   "id": "c5d840f5",
   "metadata": {},
   "outputs": [
    {
     "name": "stdout",
     "output_type": "stream",
     "text": [
      "              precision    recall  f1-score   support\n",
      "\n",
      "           0       0.85      0.91      0.88     41508\n",
      "           1       0.91      0.86      0.89     46894\n",
      "\n",
      "    accuracy                           0.88     88402\n",
      "   macro avg       0.88      0.89      0.88     88402\n",
      "weighted avg       0.89      0.88      0.88     88402\n",
      "\n"
     ]
    }
   ],
   "source": [
    "print(classification_report(p5,y_te))"
   ]
  },
  {
   "cell_type": "markdown",
   "id": "c9cc83f9",
   "metadata": {},
   "source": [
    "## KNN"
   ]
  },
  {
   "cell_type": "code",
   "execution_count": 112,
   "id": "5beeac08",
   "metadata": {},
   "outputs": [
    {
     "data": {
      "text/plain": [
       "KNeighborsClassifier(n_neighbors=25)"
      ]
     },
     "execution_count": 112,
     "metadata": {},
     "output_type": "execute_result"
    }
   ],
   "source": [
    "kn.fit(x_tr,y_tr)"
   ]
  },
  {
   "cell_type": "code",
   "execution_count": 113,
   "id": "c05bcf14",
   "metadata": {},
   "outputs": [
    {
     "data": {
      "text/plain": [
       "array([0, 1, 1, ..., 0, 1, 0], dtype=int64)"
      ]
     },
     "execution_count": 113,
     "metadata": {},
     "output_type": "execute_result"
    }
   ],
   "source": [
    "p6=kn.predict(x_te)\n",
    "p6"
   ]
  },
  {
   "cell_type": "code",
   "execution_count": 114,
   "id": "0b394856",
   "metadata": {},
   "outputs": [
    {
     "data": {
      "text/plain": [
       "array([[38608,  5258],\n",
       "       [ 5579, 38957]], dtype=int64)"
      ]
     },
     "execution_count": 114,
     "metadata": {},
     "output_type": "execute_result"
    }
   ],
   "source": [
    "cm6=confusion_matrix(p6,y_te)\n",
    "cm6"
   ]
  },
  {
   "cell_type": "code",
   "execution_count": 115,
   "id": "b3b33573",
   "metadata": {},
   "outputs": [
    {
     "data": {
      "text/plain": [
       "87.74122757403678"
      ]
     },
     "execution_count": 115,
     "metadata": {},
     "output_type": "execute_result"
    }
   ],
   "source": [
    "ac6=cm6.diagonal().sum()/cm6.sum()*100\n",
    "ac6"
   ]
  },
  {
   "cell_type": "code",
   "execution_count": 116,
   "id": "d1d43f05",
   "metadata": {},
   "outputs": [
    {
     "name": "stdout",
     "output_type": "stream",
     "text": [
      "              precision    recall  f1-score   support\n",
      "\n",
      "           0       0.87      0.88      0.88     43866\n",
      "           1       0.88      0.87      0.88     44536\n",
      "\n",
      "    accuracy                           0.88     88402\n",
      "   macro avg       0.88      0.88      0.88     88402\n",
      "weighted avg       0.88      0.88      0.88     88402\n",
      "\n"
     ]
    }
   ],
   "source": [
    "print(classification_report(p6,y_te))"
   ]
  },
  {
   "cell_type": "markdown",
   "id": "45a5baae",
   "metadata": {},
   "source": [
    "## Naive Bayes"
   ]
  },
  {
   "cell_type": "code",
   "execution_count": 117,
   "id": "47f8ea9a",
   "metadata": {},
   "outputs": [
    {
     "data": {
      "text/plain": [
       "MultinomialNB()"
      ]
     },
     "execution_count": 117,
     "metadata": {},
     "output_type": "execute_result"
    }
   ],
   "source": [
    "nb.fit(x_tr,y_tr)"
   ]
  },
  {
   "cell_type": "code",
   "execution_count": 118,
   "id": "cddaab63",
   "metadata": {},
   "outputs": [
    {
     "data": {
      "text/plain": [
       "array([0, 0, 1, ..., 0, 1, 1], dtype=int64)"
      ]
     },
     "execution_count": 118,
     "metadata": {},
     "output_type": "execute_result"
    }
   ],
   "source": [
    "p7=nb.predict(x_te)\n",
    "p7"
   ]
  },
  {
   "cell_type": "code",
   "execution_count": 119,
   "id": "ed9aab41",
   "metadata": {},
   "outputs": [
    {
     "data": {
      "text/plain": [
       "array([[23039, 21807],\n",
       "       [21148, 22408]], dtype=int64)"
      ]
     },
     "execution_count": 119,
     "metadata": {},
     "output_type": "execute_result"
    }
   ],
   "source": [
    "cm7=confusion_matrix(p7,y_te)\n",
    "cm7"
   ]
  },
  {
   "cell_type": "code",
   "execution_count": 120,
   "id": "2de07d3d",
   "metadata": {},
   "outputs": [
    {
     "data": {
      "text/plain": [
       "51.40947037397344"
      ]
     },
     "execution_count": 120,
     "metadata": {},
     "output_type": "execute_result"
    }
   ],
   "source": [
    "ac7=cm7.diagonal().sum()/cm7.sum()*100\n",
    "ac7"
   ]
  },
  {
   "cell_type": "code",
   "execution_count": 121,
   "id": "757a2521",
   "metadata": {},
   "outputs": [
    {
     "name": "stdout",
     "output_type": "stream",
     "text": [
      "              precision    recall  f1-score   support\n",
      "\n",
      "           0       0.52      0.51      0.52     44846\n",
      "           1       0.51      0.51      0.51     43556\n",
      "\n",
      "    accuracy                           0.51     88402\n",
      "   macro avg       0.51      0.51      0.51     88402\n",
      "weighted avg       0.51      0.51      0.51     88402\n",
      "\n"
     ]
    }
   ],
   "source": [
    "print(classification_report(p7,y_te))"
   ]
  },
  {
   "cell_type": "markdown",
   "id": "6470b94f",
   "metadata": {},
   "source": [
    "# CONCLUSION"
   ]
  },
  {
   "cell_type": "markdown",
   "id": "2debd122",
   "metadata": {},
   "source": [
    "### Here I got 92% accuracy with Random Forest after class inbalance technique with good precision, recall and f1-score.\n"
   ]
  },
  {
   "cell_type": "markdown",
   "id": "83e03765",
   "metadata": {},
   "source": [
    "### Hence Random forest is the best fitted Model for this dataset."
   ]
  },
  {
   "cell_type": "code",
   "execution_count": null,
   "id": "830f81d6",
   "metadata": {},
   "outputs": [],
   "source": []
  },
  {
   "cell_type": "code",
   "execution_count": null,
   "id": "09ba57d1",
   "metadata": {},
   "outputs": [],
   "source": []
  },
  {
   "cell_type": "code",
   "execution_count": null,
   "id": "a9d2bf4b",
   "metadata": {},
   "outputs": [],
   "source": []
  }
 ],
 "metadata": {
  "kernelspec": {
   "display_name": "Python 3 (ipykernel)",
   "language": "python",
   "name": "python3"
  },
  "language_info": {
   "codemirror_mode": {
    "name": "ipython",
    "version": 3
   },
   "file_extension": ".py",
   "mimetype": "text/x-python",
   "name": "python",
   "nbconvert_exporter": "python",
   "pygments_lexer": "ipython3",
   "version": "3.9.7"
  }
 },
 "nbformat": 4,
 "nbformat_minor": 5
}
